{
 "cells": [
  {
   "cell_type": "markdown",
   "metadata": {},
   "source": [
    "# Project Information"
   ]
  },
  {
   "cell_type": "markdown",
   "metadata": {},
   "source": [
    "It's always interesting to see how new leagues start in Path of Exile. As with most leagues, mines or traps are usually the most played builds at the start of the league. So, I've taken this opportunity to see how this new league fares in terms of builds at league start.\n",
    "\n",
    "NOTE: I haven't actively played PoE since Harvest League (June 2020 until September 2020), I dabbled a bit in Heist but didn't really get into it much. So my knowledge on current PoE is very outdated."
   ]
  },
  {
   "cell_type": "markdown",
   "metadata": {},
   "source": [
    "# Background Information"
   ]
  },
  {
   "cell_type": "markdown",
   "metadata": {},
   "source": [
    "With the new Affliction league in PoE being released, it will be interesting to see what the current meta is by looking at (scraping) the top dps builds at the moment. To do that, we can browse [poe.ninja](https://poe.ninja/builds/affliction?sort=dps) sorted by DPS to see how much DPS each build is doing. Furthermore, since this web scraping is done at a specific time, the data will most likely not fully represent current data. A script will be provided that will scrape data and save it as csv with appropriate time markings."
   ]
  },
  {
   "cell_type": "markdown",
   "metadata": {},
   "source": [
    "The `robots.txt` \n",
    "```\n",
    "user-agent: *\n",
    "disallow: */builds/char/*\n",
    "\n",
    "sitemap: https://poe.ninja/sitemap.xml\n",
    "```\n",
    "disallows crawlers from accessing each individual character. This project will respect the exclusion protocol and only browse the endpoint `/builds/affliction` and not go into each character's page."
   ]
  },
  {
   "cell_type": "markdown",
   "metadata": {},
   "source": [
    "# Libraries"
   ]
  },
  {
   "cell_type": "code",
   "execution_count": 74,
   "metadata": {},
   "outputs": [],
   "source": [
    "from selenium import webdriver\n",
    "from selenium.webdriver.chrome.options import Options\n",
    "from selenium.webdriver.support.ui import WebDriverWait\n",
    "from selenium.webdriver.common.by import By\n",
    "from selenium.webdriver.support import expected_conditions as EC\n",
    "from bs4 import BeautifulSoup as bs\n",
    "from time import sleep\n",
    "from datetime import datetime\n",
    "import requests\n",
    "import pandas as pd\n",
    "import matplotlib.pyplot as plt\n",
    "import seaborn as sns"
   ]
  },
  {
   "cell_type": "markdown",
   "metadata": {},
   "source": [
    "# Setup"
   ]
  },
  {
   "cell_type": "code",
   "execution_count": 2,
   "metadata": {},
   "outputs": [],
   "source": [
    "chrome_options = Options()\n",
    "chrome_options.add_argument(\"--headless\")\n",
    "chrome_options.add_argument(\"--no-sandbox\")\n",
    "chrome_options.add_argument(\"--disable-dev-shm-usage\")"
   ]
  },
  {
   "cell_type": "markdown",
   "metadata": {},
   "source": [
    "The elements that will be scraped are as follows:\n",
    "1. Level\n",
    "2. Ascendancy\n",
    "3. DPS\n",
    "4. Skill(s)\n",
    "5. Keystones\n",
    "6. Life\n",
    "7. Energy Shield"
   ]
  },
  {
   "cell_type": "code",
   "execution_count": 3,
   "metadata": {},
   "outputs": [],
   "source": [
    "class Build:\n",
    "    \"\"\"\n",
    "    The class `Build` will be an object that takes in the elements mentioned above. The Class will be mapped from\n",
    "    the given ascendancy since the website does not directly provide the class, only the ascendancy.\n",
    "    \"\"\"\n",
    "    class_asc = { # Class Ascendancies Mapping\n",
    "        'Ranger': ['Deadeye', 'Pathfinder', 'Raider'],\n",
    "        'Duelist': ['Slayer', 'Gladiator', 'Champion'],\n",
    "        'Shadow': ['Assassin', 'Trickster', 'Saboteur'],\n",
    "        'Marauder': ['Chieftain', 'Berserker', 'Juggernaut'],\n",
    "        'Witch': ['Elementalist', 'Occultist', 'Necromancer'],\n",
    "        'Templar': ['Inquisitor', 'Hierophant', 'Guardian'],\n",
    "        'Scion': ['Ascendant']    \n",
    "    }\n",
    "    \n",
    "    # Inverse mapping for each ascendancies in class_asc to fetch the class\n",
    "    class_asc_inverse = {asc: cls_ for cls_, ascs in class_asc.items() for asc in ascs}\n",
    "    \n",
    "    def __init__(self, level: int, asc: str, dps: str, skill: str, keystone: str, life: int, es: int):\n",
    "        self.level = level # Level\n",
    "        self.cls = self.class_asc_inverse.get(asc, 'Not found') # Class\n",
    "        self.asc = asc # Ascendancy\n",
    "        self.dps = dps # Damage per Second\n",
    "        self.skill = skill # Skill(s), encase in [] when using multiple skills\n",
    "        self.keystone = keystone # Keystone(s), encase in [] when you have multiple keystones\n",
    "        self.life = life # HP\n",
    "        self.es = es # Energy shield\n",
    "        \n",
    "    def __str__(self):\n",
    "        return f'Level {self.level} {self.cls} - {self.asc} \\n\\\n",
    "    Skill: {self.skill},\\n\\\n",
    "    Keystones: {self.keystone}, \\n\\\n",
    "    does {self.dps} damage per second.'"
   ]
  },
  {
   "cell_type": "code",
   "execution_count": 4,
   "metadata": {},
   "outputs": [
    {
     "name": "stdout",
     "output_type": "stream",
     "text": [
      "Level 95 Templar - Inquisitor \n",
      "    Skill: ['Flicker Strike', 'Molten Strike'],\n",
      "    Keystones: Hex Master, \n",
      "    does 250M damage per second.\n"
     ]
    }
   ],
   "source": [
    "test_build = Build(95, 'Inquisitor', '250M', ['Flicker Strike', 'Molten Strike'], 'Hex Master', 3500, 0)\n",
    "print(test_build)"
   ]
  },
  {
   "cell_type": "markdown",
   "metadata": {},
   "source": [
    "# Web Scraping"
   ]
  },
  {
   "cell_type": "markdown",
   "metadata": {},
   "source": [
    "## Request check"
   ]
  },
  {
   "cell_type": "code",
   "execution_count": 5,
   "metadata": {},
   "outputs": [
    {
     "data": {
      "text/plain": [
       "<Response [200]>"
      ]
     },
     "execution_count": 5,
     "metadata": {},
     "output_type": "execute_result"
    }
   ],
   "source": [
    "url = 'https://poe.ninja/builds/affliction?sort=dps'\n",
    "response = requests.get(url)\n",
    "response"
   ]
  },
  {
   "cell_type": "markdown",
   "metadata": {},
   "source": [
    "## Fetching data"
   ]
  },
  {
   "cell_type": "markdown",
   "metadata": {},
   "source": [
    "Sometimes when running the cell below, there might be occurrences where the table is empty. To combat that, we can implement a retry mechanism."
   ]
  },
  {
   "cell_type": "code",
   "execution_count": 77,
   "metadata": {},
   "outputs": [
    {
     "name": "stdout",
     "output_type": "stream",
     "text": [
      "Web scraped at:  2023-12-12 23:07:52\n",
      "Attempt # 1\n"
     ]
    }
   ],
   "source": [
    "current_time = datetime.now().strftime('%Y-%m-%d %H:%M:%S')\n",
    "print('Web scraped at: ', current_time)\n",
    "driver = webdriver.Chrome(options=chrome_options)\n",
    "\n",
    "max_attempts = 5\n",
    "attempts = 1\n",
    "table = None\n",
    "\n",
    "while attempts < max_attempts and table is None:\n",
    "    print('Attempt #', attempts)\n",
    "    driver.get(url)\n",
    "    WebDriverWait(driver, 10).until( # Waits up to a maximum of 10s until the table appears\n",
    "        EC.presence_of_element_located((By.CSS_SELECTOR, \"table._builds-table_8h86n_1\"))\n",
    "    )\n",
    "    html = driver.page_source\n",
    "    soup = bs(html, 'html.parser')\n",
    "    table = soup.body.find('table', class_= \"_builds-table_8h86n_1\")\n",
    "    attempts += 1\n",
    "    if table:\n",
    "        print('Success')\n",
    "        driver.quit()\n",
    "        break\n",
    "    sleep(3)\n",
    "    \n",
    "if not table:\n",
    "    print('Failed to fetch table after 5 attempts.')\n",
    "    driver.quit()"
   ]
  },
  {
   "cell_type": "code",
   "execution_count": 79,
   "metadata": {},
   "outputs": [
    {
     "data": {
      "text/plain": [
       "100"
      ]
     },
     "execution_count": 79,
     "metadata": {},
     "output_type": "execute_result"
    }
   ],
   "source": [
    "tbody = table.find('tbody')\n",
    "table_rows = tbody.find_all('tr')\n",
    "len(table_rows)"
   ]
  },
  {
   "cell_type": "code",
   "execution_count": 10,
   "metadata": {},
   "outputs": [],
   "source": [
    "def fetch_builds(table_rows=table_rows):\n",
    "    \"\"\"\n",
    "    This function fetches all the elements we want to grab by parsing through each row\n",
    "    and fetch the relevant table cells <td>.\n",
    "    The parameters:\n",
    "    1. table_rows -> All the table rows from the website\n",
    "    \"\"\"\n",
    "    builds = [] # List to store all the build informations\n",
    "    \n",
    "    for row in table_rows:\n",
    "        cells = row.find_all('td') # Fetch all cells from the row\n",
    "        life = cells[2].getText() # Life\n",
    "        es = cells[3].getText() # Energy shield\n",
    "        dps = cells[4].getText() # DPS\n",
    "        \n",
    "        # Lvl / Asc\n",
    "        level = cells[1].find('div', class_='grid gap-2 items-center grid-flow-col').getText() # Level\n",
    "        asc = cells[1].find('img')['alt'] # Ascendancy\n",
    "        \n",
    "        # Skills\n",
    "        all_skills = cells[5].find('div', class_='grid grid-flow-col auto-cols-max gap-1').find_all('img')\n",
    "        skills = [skill_alt['alt'] for skill_alt in all_skills]\n",
    "        \n",
    "        # Keystones\n",
    "        try:\n",
    "            all_keystones = cells[5].find('div', class_='grid grid-flow-col auto-cols-max gap-1 justify-end').find_all('img')\n",
    "            keystones = [keystone_alt['alt'] for keystone_alt in all_keystones]\n",
    "        except AttributeError:\n",
    "            keystones = []\n",
    "            \n",
    "        # print(level, asc, life, es, dps, skills, keystones)\n",
    "        build = Build(level, asc, dps, skills, keystones, life, es)\n",
    "        builds.append(build)\n",
    "        \n",
    "    return builds\n",
    "builds = fetch_builds()"
   ]
  },
  {
   "cell_type": "code",
   "execution_count": 11,
   "metadata": {},
   "outputs": [
    {
     "data": {
      "text/plain": [
       "100"
      ]
     },
     "execution_count": 11,
     "metadata": {},
     "output_type": "execute_result"
    }
   ],
   "source": [
    "len(builds)"
   ]
  },
  {
   "cell_type": "markdown",
   "metadata": {},
   "source": [
    "# Tabularise data"
   ]
  },
  {
   "cell_type": "code",
   "execution_count": 12,
   "metadata": {},
   "outputs": [
    {
     "data": {
      "text/html": [
       "<div>\n",
       "<style scoped>\n",
       "    .dataframe tbody tr th:only-of-type {\n",
       "        vertical-align: middle;\n",
       "    }\n",
       "\n",
       "    .dataframe tbody tr th {\n",
       "        vertical-align: top;\n",
       "    }\n",
       "\n",
       "    .dataframe thead th {\n",
       "        text-align: right;\n",
       "    }\n",
       "</style>\n",
       "<table border=\"1\" class=\"dataframe\">\n",
       "  <thead>\n",
       "    <tr style=\"text-align: right;\">\n",
       "      <th></th>\n",
       "      <th>Level</th>\n",
       "      <th>Class</th>\n",
       "      <th>Ascendancy</th>\n",
       "      <th>DPS</th>\n",
       "      <th>Skill</th>\n",
       "      <th>Keystone</th>\n",
       "      <th>Life</th>\n",
       "      <th>ES</th>\n",
       "    </tr>\n",
       "  </thead>\n",
       "  <tbody>\n",
       "    <tr>\n",
       "      <th>0</th>\n",
       "      <td>96</td>\n",
       "      <td>Witch</td>\n",
       "      <td>Occultist</td>\n",
       "      <td>290M</td>\n",
       "      <td>[Ice Trap skill]</td>\n",
       "      <td>[Pain Attunement, Eldritch Battery]</td>\n",
       "      <td>1735</td>\n",
       "      <td>477</td>\n",
       "    </tr>\n",
       "    <tr>\n",
       "      <th>1</th>\n",
       "      <td>94</td>\n",
       "      <td>Shadow</td>\n",
       "      <td>Assassin</td>\n",
       "      <td>236M</td>\n",
       "      <td>[Ice Trap skill]</td>\n",
       "      <td>[Hex Master, Pain Attunement, Eldritch Battery]</td>\n",
       "      <td>1459</td>\n",
       "      <td>437</td>\n",
       "    </tr>\n",
       "    <tr>\n",
       "      <th>2</th>\n",
       "      <td>94</td>\n",
       "      <td>Shadow</td>\n",
       "      <td>Saboteur</td>\n",
       "      <td>167M</td>\n",
       "      <td>[Ice Trap skill]</td>\n",
       "      <td>[Hex Master, Pain Attunement, Eldritch Battery]</td>\n",
       "      <td>1229</td>\n",
       "      <td>426</td>\n",
       "    </tr>\n",
       "    <tr>\n",
       "      <th>3</th>\n",
       "      <td>90</td>\n",
       "      <td>Witch</td>\n",
       "      <td>Occultist</td>\n",
       "      <td>149M</td>\n",
       "      <td>[Ice Trap skill]</td>\n",
       "      <td>[Hex Master, Pain Attunement, Eldritch Battery]</td>\n",
       "      <td>1229</td>\n",
       "      <td>427</td>\n",
       "    </tr>\n",
       "    <tr>\n",
       "      <th>4</th>\n",
       "      <td>90</td>\n",
       "      <td>Witch</td>\n",
       "      <td>Occultist</td>\n",
       "      <td>145M</td>\n",
       "      <td>[Ice Trap skill]</td>\n",
       "      <td>[Hex Master, Pain Attunement, Eldritch Battery]</td>\n",
       "      <td>1249</td>\n",
       "      <td>420</td>\n",
       "    </tr>\n",
       "  </tbody>\n",
       "</table>\n",
       "</div>"
      ],
      "text/plain": [
       "  Level   Class Ascendancy   DPS             Skill  \\\n",
       "0    96   Witch  Occultist  290M  [Ice Trap skill]   \n",
       "1    94  Shadow   Assassin  236M  [Ice Trap skill]   \n",
       "2    94  Shadow   Saboteur  167M  [Ice Trap skill]   \n",
       "3    90   Witch  Occultist  149M  [Ice Trap skill]   \n",
       "4    90   Witch  Occultist  145M  [Ice Trap skill]   \n",
       "\n",
       "                                          Keystone  Life   ES  \n",
       "0              [Pain Attunement, Eldritch Battery]  1735  477  \n",
       "1  [Hex Master, Pain Attunement, Eldritch Battery]  1459  437  \n",
       "2  [Hex Master, Pain Attunement, Eldritch Battery]  1229  426  \n",
       "3  [Hex Master, Pain Attunement, Eldritch Battery]  1229  427  \n",
       "4  [Hex Master, Pain Attunement, Eldritch Battery]  1249  420  "
      ]
     },
     "execution_count": 12,
     "metadata": {},
     "output_type": "execute_result"
    }
   ],
   "source": [
    "df = pd.DataFrame({\n",
    "    'Level': [build.level for build in builds],\n",
    "    'Class': [build.cls for build in builds],\n",
    "    'Ascendancy': [build.asc for build in builds],\n",
    "    'DPS': [build.dps for build in builds],\n",
    "    'Skill': [build.skill for build in builds],\n",
    "    'Keystone': [build.keystone for build in builds],\n",
    "    'Life': [build.life for build in builds],\n",
    "    'ES': [build.es for build in builds]\n",
    "})\n",
    "df.head(5)"
   ]
  },
  {
   "cell_type": "markdown",
   "metadata": {},
   "source": [
    "## Clean data"
   ]
  },
  {
   "cell_type": "code",
   "execution_count": 13,
   "metadata": {},
   "outputs": [],
   "source": [
    "def clean_data(df=df):\n",
    "    # Level to int\n",
    "    df['Level'] = df['Level'].astype(int)\n",
    "    \n",
    "    # DPS\n",
    "    # - Replace M with 000000\n",
    "    # - Remove 'dot'\n",
    "    # - Change to int\n",
    "    df['DPS'] = df['DPS'].str.replace('M', '000000').str.replace('dot', '').astype(int)\n",
    "    \n",
    "    # Life & ES to int\n",
    "    df['Life'] = df['Life'].astype(int)\n",
    "    df['ES'] = df['ES'].astype(int)\n",
    "    \n",
    "    return df"
   ]
  },
  {
   "cell_type": "code",
   "execution_count": 14,
   "metadata": {},
   "outputs": [
    {
     "data": {
      "text/html": [
       "<div>\n",
       "<style scoped>\n",
       "    .dataframe tbody tr th:only-of-type {\n",
       "        vertical-align: middle;\n",
       "    }\n",
       "\n",
       "    .dataframe tbody tr th {\n",
       "        vertical-align: top;\n",
       "    }\n",
       "\n",
       "    .dataframe thead th {\n",
       "        text-align: right;\n",
       "    }\n",
       "</style>\n",
       "<table border=\"1\" class=\"dataframe\">\n",
       "  <thead>\n",
       "    <tr style=\"text-align: right;\">\n",
       "      <th></th>\n",
       "      <th>Level</th>\n",
       "      <th>Class</th>\n",
       "      <th>Ascendancy</th>\n",
       "      <th>DPS</th>\n",
       "      <th>Skill</th>\n",
       "      <th>Keystone</th>\n",
       "      <th>Life</th>\n",
       "      <th>ES</th>\n",
       "    </tr>\n",
       "  </thead>\n",
       "  <tbody>\n",
       "    <tr>\n",
       "      <th>45</th>\n",
       "      <td>94</td>\n",
       "      <td>Templar</td>\n",
       "      <td>Hierophant</td>\n",
       "      <td>21000000</td>\n",
       "      <td>[Ice Spear skill]</td>\n",
       "      <td>[Ancestral Bond, Mind Over Matter, Minion Inst...</td>\n",
       "      <td>2338</td>\n",
       "      <td>641</td>\n",
       "    </tr>\n",
       "    <tr>\n",
       "      <th>64</th>\n",
       "      <td>93</td>\n",
       "      <td>Witch</td>\n",
       "      <td>Occultist</td>\n",
       "      <td>16000000</td>\n",
       "      <td>[Hexblast skill]</td>\n",
       "      <td>[Eldritch Battery, Ghost Dance]</td>\n",
       "      <td>3075</td>\n",
       "      <td>2024</td>\n",
       "    </tr>\n",
       "    <tr>\n",
       "      <th>85</th>\n",
       "      <td>91</td>\n",
       "      <td>Marauder</td>\n",
       "      <td>Berserker</td>\n",
       "      <td>14000000</td>\n",
       "      <td>[Blade Flurry skill, General's Cry skill]</td>\n",
       "      <td>[Call to Arms, Unwavering Stance]</td>\n",
       "      <td>3558</td>\n",
       "      <td>0</td>\n",
       "    </tr>\n",
       "    <tr>\n",
       "      <th>41</th>\n",
       "      <td>93</td>\n",
       "      <td>Witch</td>\n",
       "      <td>Elementalist</td>\n",
       "      <td>22000000</td>\n",
       "      <td>[Lightning Conduit skill]</td>\n",
       "      <td>[Eldritch Battery]</td>\n",
       "      <td>3209</td>\n",
       "      <td>592</td>\n",
       "    </tr>\n",
       "    <tr>\n",
       "      <th>50</th>\n",
       "      <td>94</td>\n",
       "      <td>Witch</td>\n",
       "      <td>Occultist</td>\n",
       "      <td>19000000</td>\n",
       "      <td>[Discharge skill]</td>\n",
       "      <td>[Elemental Equilibrium, Pain Attunement]</td>\n",
       "      <td>2049</td>\n",
       "      <td>88</td>\n",
       "    </tr>\n",
       "  </tbody>\n",
       "</table>\n",
       "</div>"
      ],
      "text/plain": [
       "    Level     Class    Ascendancy       DPS  \\\n",
       "45     94   Templar    Hierophant  21000000   \n",
       "64     93     Witch     Occultist  16000000   \n",
       "85     91  Marauder     Berserker  14000000   \n",
       "41     93     Witch  Elementalist  22000000   \n",
       "50     94     Witch     Occultist  19000000   \n",
       "\n",
       "                                        Skill  \\\n",
       "45                          [Ice Spear skill]   \n",
       "64                           [Hexblast skill]   \n",
       "85  [Blade Flurry skill, General's Cry skill]   \n",
       "41                  [Lightning Conduit skill]   \n",
       "50                          [Discharge skill]   \n",
       "\n",
       "                                             Keystone  Life    ES  \n",
       "45  [Ancestral Bond, Mind Over Matter, Minion Inst...  2338   641  \n",
       "64                    [Eldritch Battery, Ghost Dance]  3075  2024  \n",
       "85                  [Call to Arms, Unwavering Stance]  3558     0  \n",
       "41                                 [Eldritch Battery]  3209   592  \n",
       "50           [Elemental Equilibrium, Pain Attunement]  2049    88  "
      ]
     },
     "execution_count": 14,
     "metadata": {},
     "output_type": "execute_result"
    }
   ],
   "source": [
    "df = clean_data(df)\n",
    "df.sample(5)\n"
   ]
  },
  {
   "cell_type": "code",
   "execution_count": 15,
   "metadata": {},
   "outputs": [
    {
     "name": "stdout",
     "output_type": "stream",
     "text": [
      "<class 'pandas.core.frame.DataFrame'>\n",
      "RangeIndex: 100 entries, 0 to 99\n",
      "Data columns (total 8 columns):\n",
      " #   Column      Non-Null Count  Dtype \n",
      "---  ------      --------------  ----- \n",
      " 0   Level       100 non-null    int64 \n",
      " 1   Class       100 non-null    object\n",
      " 2   Ascendancy  100 non-null    object\n",
      " 3   DPS         100 non-null    int64 \n",
      " 4   Skill       100 non-null    object\n",
      " 5   Keystone    100 non-null    object\n",
      " 6   Life        100 non-null    int64 \n",
      " 7   ES          100 non-null    int64 \n",
      "dtypes: int64(4), object(4)\n",
      "memory usage: 6.4+ KB\n"
     ]
    }
   ],
   "source": [
    "df.info()"
   ]
  },
  {
   "cell_type": "code",
   "execution_count": 16,
   "metadata": {},
   "outputs": [],
   "source": [
    "df.to_csv('poeninja.csv', index=False)"
   ]
  },
  {
   "cell_type": "markdown",
   "metadata": {},
   "source": [
    "# Load data"
   ]
  },
  {
   "cell_type": "code",
   "execution_count": 17,
   "metadata": {},
   "outputs": [
    {
     "data": {
      "text/html": [
       "<div>\n",
       "<style scoped>\n",
       "    .dataframe tbody tr th:only-of-type {\n",
       "        vertical-align: middle;\n",
       "    }\n",
       "\n",
       "    .dataframe tbody tr th {\n",
       "        vertical-align: top;\n",
       "    }\n",
       "\n",
       "    .dataframe thead th {\n",
       "        text-align: right;\n",
       "    }\n",
       "</style>\n",
       "<table border=\"1\" class=\"dataframe\">\n",
       "  <thead>\n",
       "    <tr style=\"text-align: right;\">\n",
       "      <th></th>\n",
       "      <th>Level</th>\n",
       "      <th>Class</th>\n",
       "      <th>Ascendancy</th>\n",
       "      <th>DPS</th>\n",
       "      <th>Skill</th>\n",
       "      <th>Keystone</th>\n",
       "      <th>Life</th>\n",
       "      <th>ES</th>\n",
       "    </tr>\n",
       "  </thead>\n",
       "  <tbody>\n",
       "    <tr>\n",
       "      <th>0</th>\n",
       "      <td>96</td>\n",
       "      <td>Witch</td>\n",
       "      <td>Occultist</td>\n",
       "      <td>290000000</td>\n",
       "      <td>['Ice Trap skill']</td>\n",
       "      <td>['Pain Attunement', 'Eldritch Battery']</td>\n",
       "      <td>1735</td>\n",
       "      <td>477</td>\n",
       "    </tr>\n",
       "    <tr>\n",
       "      <th>1</th>\n",
       "      <td>94</td>\n",
       "      <td>Shadow</td>\n",
       "      <td>Assassin</td>\n",
       "      <td>236000000</td>\n",
       "      <td>['Ice Trap skill']</td>\n",
       "      <td>['Hex Master', 'Pain Attunement', 'Eldritch Ba...</td>\n",
       "      <td>1459</td>\n",
       "      <td>437</td>\n",
       "    </tr>\n",
       "    <tr>\n",
       "      <th>2</th>\n",
       "      <td>94</td>\n",
       "      <td>Shadow</td>\n",
       "      <td>Saboteur</td>\n",
       "      <td>167000000</td>\n",
       "      <td>['Ice Trap skill']</td>\n",
       "      <td>['Hex Master', 'Pain Attunement', 'Eldritch Ba...</td>\n",
       "      <td>1229</td>\n",
       "      <td>426</td>\n",
       "    </tr>\n",
       "    <tr>\n",
       "      <th>3</th>\n",
       "      <td>90</td>\n",
       "      <td>Witch</td>\n",
       "      <td>Occultist</td>\n",
       "      <td>149000000</td>\n",
       "      <td>['Ice Trap skill']</td>\n",
       "      <td>['Hex Master', 'Pain Attunement', 'Eldritch Ba...</td>\n",
       "      <td>1229</td>\n",
       "      <td>427</td>\n",
       "    </tr>\n",
       "    <tr>\n",
       "      <th>4</th>\n",
       "      <td>90</td>\n",
       "      <td>Witch</td>\n",
       "      <td>Occultist</td>\n",
       "      <td>145000000</td>\n",
       "      <td>['Ice Trap skill']</td>\n",
       "      <td>['Hex Master', 'Pain Attunement', 'Eldritch Ba...</td>\n",
       "      <td>1249</td>\n",
       "      <td>420</td>\n",
       "    </tr>\n",
       "  </tbody>\n",
       "</table>\n",
       "</div>"
      ],
      "text/plain": [
       "   Level   Class Ascendancy        DPS               Skill  \\\n",
       "0     96   Witch  Occultist  290000000  ['Ice Trap skill']   \n",
       "1     94  Shadow   Assassin  236000000  ['Ice Trap skill']   \n",
       "2     94  Shadow   Saboteur  167000000  ['Ice Trap skill']   \n",
       "3     90   Witch  Occultist  149000000  ['Ice Trap skill']   \n",
       "4     90   Witch  Occultist  145000000  ['Ice Trap skill']   \n",
       "\n",
       "                                            Keystone  Life   ES  \n",
       "0            ['Pain Attunement', 'Eldritch Battery']  1735  477  \n",
       "1  ['Hex Master', 'Pain Attunement', 'Eldritch Ba...  1459  437  \n",
       "2  ['Hex Master', 'Pain Attunement', 'Eldritch Ba...  1229  426  \n",
       "3  ['Hex Master', 'Pain Attunement', 'Eldritch Ba...  1229  427  \n",
       "4  ['Hex Master', 'Pain Attunement', 'Eldritch Ba...  1249  420  "
      ]
     },
     "execution_count": 17,
     "metadata": {},
     "output_type": "execute_result"
    }
   ],
   "source": [
    "df = pd.read_csv('poeninja.csv')\n",
    "df.head()"
   ]
  },
  {
   "cell_type": "markdown",
   "metadata": {},
   "source": [
    "# Exploratory Data Analysis"
   ]
  },
  {
   "cell_type": "markdown",
   "metadata": {},
   "source": [
    "NOTE: Since the league is still relatively new, expect to get different results everytime the scraping is done."
   ]
  },
  {
   "cell_type": "code",
   "execution_count": 18,
   "metadata": {},
   "outputs": [
    {
     "data": {
      "image/png": "[encoded data removed]",
      "text/plain": [
       "<Figure size 1200x800 with 1 Axes>"
      ]
     },
     "metadata": {},
     "output_type": "display_data"
    }
   ],
   "source": [
    "# Level\n",
    "plt.figure(figsize=(12, 8))\n",
    "sns.boxplot(x=df['Level'])\n",
    "plt.title('Level')\n",
    "plt.show()"
   ]
  },
  {
   "cell_type": "code",
   "execution_count": 19,
   "metadata": {},
   "outputs": [
    {
     "data": {
      "text/plain": [
       "Class\n",
       "Witch       39\n",
       "Templar     27\n",
       "Shadow      17\n",
       "Marauder    12\n",
       "Ranger       4\n",
       "Duelist      1\n",
       "Name: count, dtype: int64"
      ]
     },
     "execution_count": 19,
     "metadata": {},
     "output_type": "execute_result"
    }
   ],
   "source": [
    "df['Class'].value_counts()"
   ]
  },
  {
   "cell_type": "code",
   "execution_count": 27,
   "metadata": {},
   "outputs": [
    {
     "data": {
      "image/png": "[encoded data removed]",
      "text/plain": [
       "<Figure size 1400x1400 with 1 Axes>"
      ]
     },
     "metadata": {},
     "output_type": "display_data"
    },
    {
     "data": {
      "text/html": [
       "<div>\n",
       "<style scoped>\n",
       "    .dataframe tbody tr th:only-of-type {\n",
       "        vertical-align: middle;\n",
       "    }\n",
       "\n",
       "    .dataframe tbody tr th {\n",
       "        vertical-align: top;\n",
       "    }\n",
       "\n",
       "    .dataframe thead th {\n",
       "        text-align: right;\n",
       "    }\n",
       "</style>\n",
       "<table border=\"1\" class=\"dataframe\">\n",
       "  <thead>\n",
       "    <tr style=\"text-align: right;\">\n",
       "      <th></th>\n",
       "      <th>Class</th>\n",
       "    </tr>\n",
       "    <tr>\n",
       "      <th>Class</th>\n",
       "      <th></th>\n",
       "    </tr>\n",
       "  </thead>\n",
       "  <tbody>\n",
       "    <tr>\n",
       "      <th>Witch</th>\n",
       "      <td>39</td>\n",
       "    </tr>\n",
       "    <tr>\n",
       "      <th>Templar</th>\n",
       "      <td>27</td>\n",
       "    </tr>\n",
       "    <tr>\n",
       "      <th>Shadow</th>\n",
       "      <td>17</td>\n",
       "    </tr>\n",
       "    <tr>\n",
       "      <th>Marauder</th>\n",
       "      <td>12</td>\n",
       "    </tr>\n",
       "    <tr>\n",
       "      <th>Ranger</th>\n",
       "      <td>4</td>\n",
       "    </tr>\n",
       "    <tr>\n",
       "      <th>Duelist</th>\n",
       "      <td>1</td>\n",
       "    </tr>\n",
       "  </tbody>\n",
       "</table>\n",
       "</div>"
      ],
      "text/plain": [
       "          Class\n",
       "Class          \n",
       "Witch        39\n",
       "Templar      27\n",
       "Shadow       17\n",
       "Marauder     12\n",
       "Ranger        4\n",
       "Duelist       1"
      ]
     },
     "metadata": {},
     "output_type": "display_data"
    }
   ],
   "source": [
    "# Class\n",
    "class_count = pd.DataFrame()\n",
    "class_count['Class'] = df.Class.value_counts()\n",
    "\n",
    "labels = df['Class'].unique()\n",
    "plt.figure(figsize=(14, 14))\n",
    "plt.subplot(1, 2, 1)\n",
    "plt.pie(class_count['Class'], autopct='%1.1f%%', labels=labels, pctdistance=0.8, startangle=90,rotatelabels=True, radius=0.9)\n",
    "plt.title('Class')\n",
    "plt.show()\n",
    "\n",
    "display(class_count)"
   ]
  },
  {
   "cell_type": "markdown",
   "metadata": {},
   "source": [
    "Witch is the most popular. There are 39 witches on the top 100 DPS charts. Let's look at the ascendancies."
   ]
  },
  {
   "cell_type": "code",
   "execution_count": 21,
   "metadata": {},
   "outputs": [
    {
     "data": {
      "image/png": "[encoded data removed]",
      "text/plain": [
       "<Figure size 1400x1400 with 1 Axes>"
      ]
     },
     "metadata": {},
     "output_type": "display_data"
    }
   ],
   "source": [
    "# Ascendancies\n",
    "labels = df['Ascendancy'].unique()\n",
    "plt.figure(figsize=(14, 14))\n",
    "plt.subplot(1, 2, 1)\n",
    "plt.pie(df['Ascendancy'].value_counts(), labels=labels, autopct='%.0f%%', pctdistance=0.6, startangle=90, rotatelabels=True, radius=0.8)\n",
    "plt.title('Ascendancy')\n",
    "plt.show()"
   ]
  },
  {
   "cell_type": "markdown",
   "metadata": {},
   "source": [
    "- The most played ascendancy is occultist at 31%, which means around 93% of witches are occultists, the remaining 7% are elementalists with no necromancers\n",
    "- The second most played is Assassin (Shadow) at 20%\n",
    "- The third most played is Saboteur at 12%, this is expected because mine builds is usually very famous at league start\n",
    "\n",
    "Let's explore what top three ascendancies uses."
   ]
  },
  {
   "cell_type": "code",
   "execution_count": 47,
   "metadata": {},
   "outputs": [
    {
     "data": {
      "image/png": "[encoded data removed]",
      "text/plain": [
       "<Figure size 1200x1800 with 3 Axes>"
      ]
     },
     "metadata": {},
     "output_type": "display_data"
    }
   ],
   "source": [
    "plt.figure(figsize=(12, 18))\n",
    "\n",
    "occultist_df = df[df['Ascendancy'] == 'Occultist']\n",
    "plt.subplot(3, 1, 1)\n",
    "sns.countplot(data=occultist_df, y='Skill', color='blue', order=occultist_df['Skill'].value_counts().index)\n",
    "plt.xlabel('Count')\n",
    "plt.title('Occultist')\n",
    "\n",
    "assassin_df = df[df['Ascendancy'] == 'Assassin']\n",
    "plt.subplot(3, 1, 2)\n",
    "sns.countplot(data=assassin_df, y='Skill', color='navy', order=assassin_df['Skill'].value_counts().index)\n",
    "plt.xlabel('Count')\n",
    "plt.title('Assassin')\n",
    "\n",
    "saboteur_df = df[df['Ascendancy'] == 'Saboteur']\n",
    "plt.subplot(3, 1, 3)\n",
    "sns.countplot(data=saboteur_df, y='Skill', color='teal', order=saboteur_df['Skill'].value_counts().index)\n",
    "plt.xlabel('Count')\n",
    "plt.title('Saboteur')\n",
    "\n",
    "plt.show()"
   ]
  },
  {
   "cell_type": "markdown",
   "metadata": {},
   "source": [
    "- Hexblast:\n",
    "Deals chaos damage to a single enemy, dealing more damage if they are Hexed, then removes the Hex with the highest Doom. If a Hex was removed this way, also deals area damage to other enemies around the target, boosting damage and removing Hexes from those enemies in the same way. [Source](https://pathofexile.fandom.com/wiki/Hexblast)\n",
    "\n",
    "- Ice trap:\n",
    "Throws a trap that creates a series of icy runic explosions when triggered, dealing cold damage to all enemies caught in the blasts. [Source](https://pathofexile.fandom.com/wiki/Ice_Trap)"
   ]
  },
  {
   "cell_type": "markdown",
   "metadata": {},
   "source": [
    "- Hexblast and Ice trap is one of the most used skills for both the top three ascendancies, with the exception for Hexblast on Assassin\n",
    "- Icicle mine is the second most used skill for Assassin\n",
    "\n",
    "This further emphasizes Hexblast as the top skill for this league's start. Since this is the start of the league, hexblast on occultist can also be assumed as hexblast mine instead of selfcast. As with most league starts, mines and traps are usually the most played builds.\n",
    "\n",
    "Now let's check how much damage they're able to dish out."
   ]
  },
  {
   "cell_type": "code",
   "execution_count": 66,
   "metadata": {},
   "outputs": [
    {
     "data": {
      "image/png": "[encoded data removed]",
      "text/plain": [
       "<Figure size 1200x600 with 1 Axes>"
      ]
     },
     "metadata": {},
     "output_type": "display_data"
    }
   ],
   "source": [
    "plt.figure(figsize=(12, 6))\n",
    "sns.boxplot(data=df, y='DPS', hue='Ascendancy')\n",
    "plt.legend(loc='upper center')\n",
    "plt.grid()\n",
    "plt.title('DPS')\n",
    "plt.show()"
   ]
  },
  {
   "cell_type": "markdown",
   "metadata": {},
   "source": [
    "- Occultist and Assassin has extreme outliers\n",
    "- In terms of the top three ascendancies used (Occultist, Assassin, Saboteur), Occultist and Saboteur's damage is more uniform than Assassin\n",
    "- Assassin's overall DPS is more spread out \n",
    "\n",
    "Let's check out the outliers from the top 3 ascendancies."
   ]
  },
  {
   "cell_type": "code",
   "execution_count": 86,
   "metadata": {},
   "outputs": [
    {
     "data": {
      "text/html": [
       "<div>\n",
       "<style scoped>\n",
       "    .dataframe tbody tr th:only-of-type {\n",
       "        vertical-align: middle;\n",
       "    }\n",
       "\n",
       "    .dataframe tbody tr th {\n",
       "        vertical-align: top;\n",
       "    }\n",
       "\n",
       "    .dataframe thead th {\n",
       "        text-align: right;\n",
       "    }\n",
       "</style>\n",
       "<table border=\"1\" class=\"dataframe\">\n",
       "  <thead>\n",
       "    <tr style=\"text-align: right;\">\n",
       "      <th></th>\n",
       "      <th>Level</th>\n",
       "      <th>Class</th>\n",
       "      <th>Ascendancy</th>\n",
       "      <th>DPS</th>\n",
       "      <th>Skill</th>\n",
       "      <th>Keystone</th>\n",
       "      <th>Life</th>\n",
       "      <th>ES</th>\n",
       "    </tr>\n",
       "  </thead>\n",
       "  <tbody>\n",
       "    <tr>\n",
       "      <th>0</th>\n",
       "      <td>96</td>\n",
       "      <td>Witch</td>\n",
       "      <td>Occultist</td>\n",
       "      <td>290000000</td>\n",
       "      <td>['Ice Trap skill']</td>\n",
       "      <td>['Pain Attunement', 'Eldritch Battery']</td>\n",
       "      <td>1735</td>\n",
       "      <td>477</td>\n",
       "    </tr>\n",
       "    <tr>\n",
       "      <th>3</th>\n",
       "      <td>90</td>\n",
       "      <td>Witch</td>\n",
       "      <td>Occultist</td>\n",
       "      <td>149000000</td>\n",
       "      <td>['Ice Trap skill']</td>\n",
       "      <td>['Hex Master', 'Pain Attunement', 'Eldritch Ba...</td>\n",
       "      <td>1229</td>\n",
       "      <td>427</td>\n",
       "    </tr>\n",
       "    <tr>\n",
       "      <th>4</th>\n",
       "      <td>90</td>\n",
       "      <td>Witch</td>\n",
       "      <td>Occultist</td>\n",
       "      <td>145000000</td>\n",
       "      <td>['Ice Trap skill']</td>\n",
       "      <td>['Hex Master', 'Pain Attunement', 'Eldritch Ba...</td>\n",
       "      <td>1249</td>\n",
       "      <td>420</td>\n",
       "    </tr>\n",
       "    <tr>\n",
       "      <th>5</th>\n",
       "      <td>94</td>\n",
       "      <td>Witch</td>\n",
       "      <td>Occultist</td>\n",
       "      <td>134000000</td>\n",
       "      <td>['Ice Trap skill']</td>\n",
       "      <td>['The Agnostic', 'Pain Attunement', 'Eldritch ...</td>\n",
       "      <td>1228</td>\n",
       "      <td>415</td>\n",
       "    </tr>\n",
       "  </tbody>\n",
       "</table>\n",
       "</div>"
      ],
      "text/plain": [
       "   Level  Class Ascendancy        DPS               Skill  \\\n",
       "0     96  Witch  Occultist  290000000  ['Ice Trap skill']   \n",
       "3     90  Witch  Occultist  149000000  ['Ice Trap skill']   \n",
       "4     90  Witch  Occultist  145000000  ['Ice Trap skill']   \n",
       "5     94  Witch  Occultist  134000000  ['Ice Trap skill']   \n",
       "\n",
       "                                            Keystone  Life   ES  \n",
       "0            ['Pain Attunement', 'Eldritch Battery']  1735  477  \n",
       "3  ['Hex Master', 'Pain Attunement', 'Eldritch Ba...  1229  427  \n",
       "4  ['Hex Master', 'Pain Attunement', 'Eldritch Ba...  1249  420  \n",
       "5  ['The Agnostic', 'Pain Attunement', 'Eldritch ...  1228  415  "
      ]
     },
     "execution_count": 86,
     "metadata": {},
     "output_type": "execute_result"
    }
   ],
   "source": [
    "# Occultist outliers\n",
    "occultist_df.query('DPS > 1e8')"
   ]
  },
  {
   "cell_type": "markdown",
   "metadata": {},
   "source": [
    "All of the Occultist outliers use Ice Trap with similar keystones, for reference\n",
    "- [Hex Master](https://www.poewiki.net/wiki/Hex_Master)\n",
    "> Your Hexes have infinite Duration. 20% less Effect of your Curses\n",
    "- [The Agnostic](https://www.poewiki.net/wiki/The_Agnostic)\n",
    "> Maximum Energy Shield is 0. While not on Full Life, Sacrifice 20% of Mana per Second to Recover that much Life\n",
    "- [Pain Attunement](https://www.poewiki.net/wiki/Pain_Attunement)\n",
    "> 30% more Spell Damage when on Low Life\n",
    "\n",
    "[Low life](https://www.poewiki.net/wiki/Low_life) is active when your life is 50% or lower.\n",
    "\n",
    "Looking at the top two characters here, the biggest difference is the links on the weapon. \n",
    "- The top dps has a 6-link [The Annihilating Light](https://www.poewiki.net/wiki/The_Annihilating_Light), while the second one has a 5-link\n",
    "- The top dps has more trap throwing speed than the second"
   ]
  },
  {
   "cell_type": "code",
   "execution_count": 91,
   "metadata": {},
   "outputs": [
    {
     "data": {
      "text/html": [
       "<div>\n",
       "<style scoped>\n",
       "    .dataframe tbody tr th:only-of-type {\n",
       "        vertical-align: middle;\n",
       "    }\n",
       "\n",
       "    .dataframe tbody tr th {\n",
       "        vertical-align: top;\n",
       "    }\n",
       "\n",
       "    .dataframe thead th {\n",
       "        text-align: right;\n",
       "    }\n",
       "</style>\n",
       "<table border=\"1\" class=\"dataframe\">\n",
       "  <thead>\n",
       "    <tr style=\"text-align: right;\">\n",
       "      <th></th>\n",
       "      <th>Level</th>\n",
       "      <th>Class</th>\n",
       "      <th>Ascendancy</th>\n",
       "      <th>DPS</th>\n",
       "      <th>Skill</th>\n",
       "      <th>Keystone</th>\n",
       "      <th>Life</th>\n",
       "      <th>ES</th>\n",
       "    </tr>\n",
       "  </thead>\n",
       "  <tbody>\n",
       "    <tr>\n",
       "      <th>1</th>\n",
       "      <td>94</td>\n",
       "      <td>Shadow</td>\n",
       "      <td>Assassin</td>\n",
       "      <td>236000000</td>\n",
       "      <td>['Ice Trap skill']</td>\n",
       "      <td>['Hex Master', 'Pain Attunement', 'Eldritch Ba...</td>\n",
       "      <td>1459</td>\n",
       "      <td>437</td>\n",
       "    </tr>\n",
       "  </tbody>\n",
       "</table>\n",
       "</div>"
      ],
      "text/plain": [
       "   Level   Class Ascendancy        DPS               Skill  \\\n",
       "1     94  Shadow   Assassin  236000000  ['Ice Trap skill']   \n",
       "\n",
       "                                            Keystone  Life   ES  \n",
       "1  ['Hex Master', 'Pain Attunement', 'Eldritch Ba...  1459  437  "
      ]
     },
     "metadata": {},
     "output_type": "display_data"
    },
    {
     "data": {
      "text/html": [
       "<div>\n",
       "<style scoped>\n",
       "    .dataframe tbody tr th:only-of-type {\n",
       "        vertical-align: middle;\n",
       "    }\n",
       "\n",
       "    .dataframe tbody tr th {\n",
       "        vertical-align: top;\n",
       "    }\n",
       "\n",
       "    .dataframe thead th {\n",
       "        text-align: right;\n",
       "    }\n",
       "</style>\n",
       "<table border=\"1\" class=\"dataframe\">\n",
       "  <thead>\n",
       "    <tr style=\"text-align: right;\">\n",
       "      <th></th>\n",
       "      <th>Level</th>\n",
       "      <th>Class</th>\n",
       "      <th>Ascendancy</th>\n",
       "      <th>DPS</th>\n",
       "      <th>Skill</th>\n",
       "      <th>Keystone</th>\n",
       "      <th>Life</th>\n",
       "      <th>ES</th>\n",
       "    </tr>\n",
       "  </thead>\n",
       "  <tbody>\n",
       "    <tr>\n",
       "      <th>2</th>\n",
       "      <td>94</td>\n",
       "      <td>Shadow</td>\n",
       "      <td>Saboteur</td>\n",
       "      <td>167000000</td>\n",
       "      <td>['Ice Trap skill']</td>\n",
       "      <td>['Hex Master', 'Pain Attunement', 'Eldritch Ba...</td>\n",
       "      <td>1229</td>\n",
       "      <td>426</td>\n",
       "    </tr>\n",
       "  </tbody>\n",
       "</table>\n",
       "</div>"
      ],
      "text/plain": [
       "   Level   Class Ascendancy        DPS               Skill  \\\n",
       "2     94  Shadow   Saboteur  167000000  ['Ice Trap skill']   \n",
       "\n",
       "                                            Keystone  Life   ES  \n",
       "2  ['Hex Master', 'Pain Attunement', 'Eldritch Ba...  1229  426  "
      ]
     },
     "metadata": {},
     "output_type": "display_data"
    }
   ],
   "source": [
    "# Assassin outliers\n",
    "display(assassin_df.query('DPS > 1.5e8'))\n",
    "\n",
    "# Saboteur outliers\n",
    "display(saboteur_df.query('DPS > 1e8'))"
   ]
  },
  {
   "cell_type": "markdown",
   "metadata": {},
   "source": [
    "Similar to Occultist, the outliers on Assassin and Saboteur also use Ice Trap with similar keystones. Without checking their gear, we can also assume the gear being the biggest determining factor in damage, followed with ascendancy choice."
   ]
  },
  {
   "cell_type": "markdown",
   "metadata": {},
   "source": [
    "# Conclusion"
   ]
  },
  {
   "cell_type": "markdown",
   "metadata": {},
   "source": [
    "As with most leagues, mines or traps are usually the most played builds at the start of the league due to its safety and possibly off-screen potential. There aren't any recommendations here because this is more of a personal interest project. Play whatever build you want! Re-roll or make a new character if it sucks."
   ]
  },
  {
   "cell_type": "markdown",
   "metadata": {},
   "source": [
    "# Flicker Strike best build"
   ]
  }
 ],
 "metadata": {
  "kernelspec": {
   "display_name": "projects",
   "language": "python",
   "name": "python3"
  },
  "language_info": {
   "codemirror_mode": {
    "name": "ipython",
    "version": 3
   },
   "file_extension": ".py",
   "mimetype": "text/x-python",
   "name": "python",
   "nbconvert_exporter": "python",
   "pygments_lexer": "ipython3",
   "version": "3.11.5"
  }
 },
 "nbformat": 4,
 "nbformat_minor": 2
}
